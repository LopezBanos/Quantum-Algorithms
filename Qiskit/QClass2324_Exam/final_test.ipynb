{
 "cells": [
  {
   "cell_type": "code",
   "execution_count": 8,
   "outputs": [],
   "source": [
    "import numpy as np\n",
    "import qiskit"
   ],
   "metadata": {
    "collapsed": false,
    "ExecuteTime": {
     "end_time": "2023-12-18T12:30:54.073976Z",
     "start_time": "2023-12-18T12:30:54.069316Z"
    }
   }
  },
  {
   "cell_type": "markdown",
   "source": [
    "# Probabilistic Bits\n",
    "Combining two probabilistic bit states (p-bits) what is the probability of a given state. They difference is that the amplitude of probability is the probability, so you do not have to do the Euclidean norm with the coefficients. For instance,\n",
    "$$\n",
    "\\begin{equation}\n",
    "bit = (0.45, 0.55)^{\\intercal}\n",
    "\\end{equation}\n",
    "$$\n",
    "\n"
   ],
   "metadata": {
    "collapsed": false
   }
  },
  {
   "cell_type": "code",
   "execution_count": 3,
   "outputs": [],
   "source": [
    "P = np.array([[1/3,0],[2/3,1]])\n",
    "x = np.array([0,1])"
   ],
   "metadata": {
    "collapsed": false,
    "ExecuteTime": {
     "end_time": "2023-12-18T12:19:20.926230Z",
     "start_time": "2023-12-18T12:19:20.924885Z"
    }
   }
  },
  {
   "cell_type": "code",
   "execution_count": 6,
   "outputs": [
    {
     "name": "stdout",
     "output_type": "stream",
     "text": [
      "[0. 1.]\n"
     ]
    }
   ],
   "source": [
    "print(P@x)"
   ],
   "metadata": {
    "collapsed": false,
    "ExecuteTime": {
     "end_time": "2023-12-18T12:20:02.340048Z",
     "start_time": "2023-12-18T12:20:02.320870Z"
    }
   }
  },
  {
   "cell_type": "markdown",
   "source": [
    "# Qiskit Circuits"
   ],
   "metadata": {
    "collapsed": false
   }
  },
  {
   "cell_type": "markdown",
   "source": [
    "## Circuit 1"
   ],
   "metadata": {
    "collapsed": false
   }
  },
  {
   "cell_type": "code",
   "execution_count": 4,
   "outputs": [
    {
     "data": {
      "text/plain": "<Figure size 937.953x200.667 with 1 Axes>",
      "image/png": "[encoded data removed]"
     },
     "execution_count": 4,
     "metadata": {},
     "output_type": "execute_result"
    }
   ],
   "source": [
    "from qiskit import QuantumRegister, ClassicalRegister\n",
    "from qiskit import QuantumCircuit, Aer, execute\n",
    "q = QuantumRegister(1,'q')\n",
    "c = ClassicalRegister(1,'c')\n",
    "qc = QuantumCircuit(q,c)\n",
    "qc.x(q[0])\n",
    "qc.measure(q[0], 0)\n",
    "qc.h(q[0]).c_if(c[0], 0)\n",
    "\n",
    "qc.measure(q[0], 0)\n",
    "qc.h(q[0]).c_if(c[0], 1)\n",
    "qc.measure(q[0], 0)\n",
    "qc.h(q[0]).c_if(c[0], 0)\n",
    "qc.measure(q[0], 0)\n",
    "qc.h(q[0]).c_if(c[0], 1)\n",
    "qc.measure(q[0], 0)\n",
    "qc.draw(\"mpl\")\n"
   ],
   "metadata": {
    "collapsed": false,
    "ExecuteTime": {
     "end_time": "2023-12-18T12:30:12.785078Z",
     "start_time": "2023-12-18T12:30:12.691670Z"
    }
   }
  },
  {
   "cell_type": "code",
   "execution_count": 5,
   "outputs": [],
   "source": [
    "job = execute(qc, Aer.get_backend('statevector_simulator'), shots=700)\n",
    "result = job.result()"
   ],
   "metadata": {
    "collapsed": false,
    "ExecuteTime": {
     "end_time": "2023-12-18T12:30:13.102792Z",
     "start_time": "2023-12-18T12:30:13.072872Z"
    }
   }
  },
  {
   "cell_type": "code",
   "execution_count": 6,
   "outputs": [
    {
     "data": {
      "text/plain": "{'0': 434, '1': 266}"
     },
     "execution_count": 6,
     "metadata": {},
     "output_type": "execute_result"
    }
   ],
   "source": [
    "result.get_counts()"
   ],
   "metadata": {
    "collapsed": false,
    "ExecuteTime": {
     "end_time": "2023-12-18T12:30:13.467497Z",
     "start_time": "2023-12-18T12:30:13.454979Z"
    }
   }
  },
  {
   "cell_type": "markdown",
   "source": [
    "## Circuit 2"
   ],
   "metadata": {
    "collapsed": false
   }
  },
  {
   "cell_type": "code",
   "execution_count": 11,
   "outputs": [],
   "source": [
    "from qiskit.quantum_info.operators import Operator\n",
    "def reflection_operator(theta):\n",
    "    ref_op = Operator([[np.cos(2*theta), np.sin(2*theta)],\n",
    "                      [np.sin(2*theta), -np.cos(2*theta)]])\n",
    "    return ref_op\n",
    "\n",
    "def rotation_operator(phi):\n",
    "    rot_op = Operator([[np.cos(phi), -np.sin(phi)],\n",
    "                      [np.sin(phi), np.cos(phi)]])\n",
    "    return rot_op\n"
   ],
   "metadata": {
    "collapsed": false,
    "ExecuteTime": {
     "end_time": "2023-12-18T12:34:35.240502Z",
     "start_time": "2023-12-18T12:34:35.232968Z"
    }
   }
  },
  {
   "cell_type": "code",
   "execution_count": 20,
   "outputs": [
    {
     "data": {
      "text/plain": "<Figure size 1021.56x200.667 with 1 Axes>",
      "image/png": "[encoded data removed]"
     },
     "execution_count": 20,
     "metadata": {},
     "output_type": "execute_result"
    }
   ],
   "source": [
    "theta = np.pi/4\n",
    "phi = np.pi/4\n",
    "q = QuantumRegister(1,'q')\n",
    "c = ClassicalRegister(1,'c')\n",
    "qc = QuantumCircuit(q,c)\n",
    "# Set qubit to state |1>\n",
    "qc.x(q[0])\n",
    "for i in range(5):\n",
    "    qc.unitary(rotation_operator(phi), [0], label='R')\n",
    "    qc.unitary(reflection_operator(theta), [0], label='Ref')\n",
    "qc.draw(\"mpl\")\n"
   ],
   "metadata": {
    "collapsed": false,
    "ExecuteTime": {
     "end_time": "2023-12-18T12:36:59.019782Z",
     "start_time": "2023-12-18T12:36:58.948969Z"
    }
   }
  },
  {
   "cell_type": "code",
   "execution_count": 21,
   "outputs": [
    {
     "name": "stdout",
     "output_type": "stream",
     "text": [
      "Statevector([ 0.70710678+0.00000000e+00j, -0.70710678-8.65956056e-17j],\n",
      "            dims=(2,))\n"
     ]
    }
   ],
   "source": [
    "job = execute(qc, Aer.get_backend('statevector_simulator'), shots=100)\n",
    "result = job.result()\n",
    "result.get_statevector()"
   ],
   "metadata": {
    "collapsed": false,
    "ExecuteTime": {
     "end_time": "2023-12-18T12:36:59.693416Z",
     "start_time": "2023-12-18T12:36:59.681709Z"
    }
   }
  },
  {
   "cell_type": "markdown",
   "source": [
    "## Circuit 3"
   ],
   "metadata": {
    "collapsed": false
   }
  },
  {
   "cell_type": "code",
   "execution_count": 30,
   "outputs": [
    {
     "data": {
      "text/plain": "<Figure size 519.897x200.667 with 1 Axes>",
      "image/png": "[encoded data removed]"
     },
     "execution_count": 30,
     "metadata": {},
     "output_type": "execute_result"
    }
   ],
   "source": [
    "q = QuantumRegister(1,'q')\n",
    "c = ClassicalRegister(1,'c')\n",
    "qc = QuantumCircuit(q,c)\n",
    "qc.x(q[0])\n",
    "qc.h(q[0])\n",
    "qc.z(q[0])\n",
    "qc.x(q[0])\n",
    "qc.z(q[0])\n",
    "qc.draw(\"mpl\")"
   ],
   "metadata": {
    "collapsed": false,
    "ExecuteTime": {
     "end_time": "2023-12-18T12:54:16.949168Z",
     "start_time": "2023-12-18T12:54:16.911708Z"
    }
   }
  },
  {
   "cell_type": "code",
   "execution_count": 31,
   "outputs": [
    {
     "name": "stdout",
     "output_type": "stream",
     "text": [
      "Statevector([ 0.70710678+0.00000000e+00j, -0.70710678-8.65956056e-17j],\n",
      "            dims=(2,))\n"
     ]
    }
   ],
   "source": [
    "job = execute(qc, Aer.get_backend('statevector_simulator'), shots=100)\n",
    "result = job.result()\n",
    "result.get_statevector()"
   ],
   "metadata": {
    "collapsed": false,
    "ExecuteTime": {
     "end_time": "2023-12-18T12:54:17.566131Z",
     "start_time": "2023-12-18T12:54:17.562443Z"
    }
   }
  },
  {
   "cell_type": "markdown",
   "source": [
    "## Circuit 4: Get the matrix of a quantum circuit"
   ],
   "metadata": {
    "collapsed": false
   }
  },
  {
   "cell_type": "code",
   "execution_count": 32,
   "outputs": [
    {
     "data": {
      "text/plain": "<Figure size 287.294x284.278 with 1 Axes>",
      "image/png": "[encoded data removed]"
     },
     "execution_count": 32,
     "metadata": {},
     "output_type": "execute_result"
    }
   ],
   "source": [
    "backend = Aer.get_backend('unitary_simulator')\n",
    "q = QuantumRegister(2,'q')\n",
    "c = ClassicalRegister(2,'c')\n",
    "\n",
    "qc = QuantumCircuit(q,c)\n",
    "\n",
    "# Gates on Qubit 0\n",
    "qc.x(q[1])\n",
    "qc.h(q[1])\n",
    "\n",
    "# Gates on Qubit 1\n",
    "qc.h(q[0])\n",
    "qc.x(q[0])\n",
    "\n",
    "\n",
    "qc.draw(\"mpl\", reverse_bits=True)"
   ],
   "metadata": {
    "collapsed": false,
    "ExecuteTime": {
     "end_time": "2023-12-18T12:54:34.924308Z",
     "start_time": "2023-12-18T12:54:34.707924Z"
    }
   }
  },
  {
   "cell_type": "code",
   "execution_count": 33,
   "outputs": [
    {
     "name": "stdout",
     "output_type": "stream",
     "text": [
      "Operator([[ 0.5+0.j, -0.5+0.j,  0.5+0.j, -0.5-0.j],\n",
      "          [ 0.5+0.j,  0.5+0.j,  0.5+0.j,  0.5+0.j],\n",
      "          [-0.5-0.j,  0.5+0.j,  0.5+0.j, -0.5-0.j],\n",
      "          [-0.5-0.j, -0.5-0.j,  0.5+0.j,  0.5+0.j]],\n",
      "         input_dims=(2, 2), output_dims=(2, 2))\n"
     ]
    }
   ],
   "source": [
    "job = execute(qc, backend, shots=8192)\n",
    "result = job.result()\n",
    "print(result.get_unitary(qc,3))"
   ],
   "metadata": {
    "collapsed": false,
    "ExecuteTime": {
     "end_time": "2023-12-18T12:54:45.629243Z",
     "start_time": "2023-12-18T12:54:45.625576Z"
    }
   }
  },
  {
   "cell_type": "markdown",
   "source": [
    "## Circuit 5: Apply Rotation U3 Gate"
   ],
   "metadata": {
    "collapsed": false
   }
  },
  {
   "cell_type": "code",
   "execution_count": 67,
   "outputs": [],
   "source": [
    "def U3(theta, phi, gamma):\n",
    "    u3 = Operator([[np.cos(theta/2), -np.exp(1j*gamma)*np.sin(theta/2)],\n",
    "                      [np.exp(1j*phi)*np.sin(theta/2), np.exp(1j*phi + 1j*gamma)*np.cos(theta/2)]])\n",
    "    return u3"
   ],
   "metadata": {
    "collapsed": false,
    "ExecuteTime": {
     "end_time": "2023-12-18T11:51:51.636287Z",
     "start_time": "2023-12-18T11:51:51.631645Z"
    }
   }
  },
  {
   "cell_type": "code",
   "execution_count": 71,
   "outputs": [
    {
     "data": {
      "text/plain": "<Figure size 352.675x200.667 with 1 Axes>",
      "image/png": "[encoded data removed]"
     },
     "execution_count": 71,
     "metadata": {},
     "output_type": "execute_result"
    }
   ],
   "source": [
    "theta = np.pi/4\n",
    "phi   = np.pi/8\n",
    "gamma = np.pi/2\n",
    "q = QuantumRegister(1,'q')\n",
    "c = ClassicalRegister(1,'c')\n",
    "qc = QuantumCircuit(q,c)\n",
    "qc.x(q[0])\n",
    "qc.unitary(U3(theta , phi, gamma), [0], label='U3')\n",
    "qc.measure(0,0)\n",
    "qc.draw(\"mpl\", reverse_bits=True)"
   ],
   "metadata": {
    "collapsed": false,
    "ExecuteTime": {
     "end_time": "2023-12-18T11:54:21.954836Z",
     "start_time": "2023-12-18T11:54:21.888390Z"
    }
   }
  },
  {
   "cell_type": "code",
   "execution_count": 72,
   "outputs": [
    {
     "data": {
      "text/plain": "{'0': 17, '1': 83}"
     },
     "execution_count": 72,
     "metadata": {},
     "output_type": "execute_result"
    }
   ],
   "source": [
    "\n",
    "job = execute(qc, Aer.get_backend('statevector_simulator'), shots=100)\n",
    "result = job.result()\n",
    "result.get_counts()"
   ],
   "metadata": {
    "collapsed": false,
    "ExecuteTime": {
     "end_time": "2023-12-18T11:54:23.380058Z",
     "start_time": "2023-12-18T11:54:23.372210Z"
    }
   }
  },
  {
   "cell_type": "markdown",
   "source": [
    "## Cirq"
   ],
   "metadata": {
    "collapsed": false
   }
  },
  {
   "cell_type": "code",
   "execution_count": 58,
   "outputs": [],
   "source": [
    "import cirq\n",
    "from cirq import H, X, measure, Y, T, SWAP\n",
    "\n",
    "circuit = cirq.Circuit()\n",
    "\n",
    "q0, q1, q2 = cirq.LineQubit.range(3) #create 3 qubits\n",
    "\n",
    "circuit.append(H(q0))\n",
    "circuit.append(X(q1))\n",
    "circuit.append(Y(q2))\n",
    "circuit.append(T.on(q0).controlled_by(q1))\n",
    "circuit.append(SWAP.on(q0,q1).controlled_by(q2))"
   ],
   "metadata": {
    "collapsed": false,
    "ExecuteTime": {
     "end_time": "2023-12-18T13:40:33.542Z",
     "start_time": "2023-12-18T13:40:33.535955Z"
    }
   }
  },
  {
   "cell_type": "code",
   "execution_count": 59,
   "outputs": [
    {
     "name": "stdout",
     "output_type": "stream",
     "text": [
      "the quantum state is\n",
      "0.71j|101⟩ + (-0.5+0.5j)|111⟩\n",
      "\n",
      "the circuit is\n",
      "0: ───H───@────────×───M('result')───\n",
      "          │        │   │\n",
      "1: ───X───@^0.25───×───M─────────────\n",
      "                   │   │\n",
      "2: ───Y────────────@───M─────────────\n",
      "\n"
     ]
    }
   ],
   "source": [
    "sim = cirq.Simulator()\n",
    "results = sim.simulate(circuit)\n",
    "\n",
    "print(\"the quantum state is\")\n",
    "print(results.dirac_notation())\n",
    "print()\n",
    "\n",
    "circuit.append(measure(q0, q1, q2, key='result'))\n",
    "\n",
    "print(\"the circuit is\")\n",
    "print(circuit)\n",
    "print()"
   ],
   "metadata": {
    "collapsed": false,
    "ExecuteTime": {
     "end_time": "2023-12-18T13:40:33.947107Z",
     "start_time": "2023-12-18T13:40:33.939943Z"
    }
   }
  },
  {
   "cell_type": "code",
   "execution_count": 60,
   "outputs": [],
   "source": [
    "def bitstring(bits):\n",
    "    return \"\".join(str(int(b)) for b in bits)"
   ],
   "metadata": {
    "collapsed": false,
    "ExecuteTime": {
     "end_time": "2023-12-18T13:40:34.496397Z",
     "start_time": "2023-12-18T13:40:34.489717Z"
    }
   }
  },
  {
   "cell_type": "code",
   "execution_count": 61,
   "outputs": [
    {
     "name": "stdout",
     "output_type": "stream",
     "text": [
      "outcomes: Counter({'111': 511, '101': 489})\n"
     ]
    }
   ],
   "source": [
    "samples = sim.run(circuit, repetitions=1000)\n",
    "print(\"outcomes:\", samples.histogram(key='result', fold_func=bitstring))"
   ],
   "metadata": {
    "collapsed": false,
    "ExecuteTime": {
     "end_time": "2023-12-18T13:40:35.193911Z",
     "start_time": "2023-12-18T13:40:35.182971Z"
    }
   }
  },
  {
   "cell_type": "code",
   "execution_count": null,
   "outputs": [],
   "source": [],
   "metadata": {
    "collapsed": false
   }
  }
 ],
 "metadata": {
  "kernelspec": {
   "display_name": "Python 3",
   "language": "python",
   "name": "python3"
  },
  "language_info": {
   "codemirror_mode": {
    "name": "ipython",
    "version": 2
   },
   "file_extension": ".py",
   "mimetype": "text/x-python",
   "name": "python",
   "nbconvert_exporter": "python",
   "pygments_lexer": "ipython2",
   "version": "2.7.6"
  }
 },
 "nbformat": 4,
 "nbformat_minor": 0
}
