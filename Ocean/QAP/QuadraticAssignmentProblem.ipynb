{
 "cells": [
  {
   "attachments": {},
   "cell_type": "markdown",
   "metadata": {},
   "source": [
    "# Problem 1: Quadratic Assignment Problem\n",
    "**Author:** Sergio López Baños (/LopezBanos)"
   ]
  },
  {
   "cell_type": "code",
   "execution_count": 37,
   "metadata": {},
   "outputs": [],
   "source": [
    "import dimod           # D-WAVE share API for samplers [1]\n",
    "import neal\n",
    "import tabu\n",
    "import numpy as np     # Python Scientific Package     [2]\n",
    "import pandas as pd    # Pandas (Data management)      [3]\n",
    "from utils import path_for_any_os\n",
    "from dimod import ConstrainedQuadraticModel,BinaryQuadraticModel, Binary, quicksum"
   ]
  },
  {
   "attachments": {},
   "cell_type": "markdown",
   "metadata": {},
   "source": [
    "## Loading and Cleaning Data\n",
    "I defined a function in `utils.py` that allow me to read the instances.txt files for any system as long as they are saved in the same way I did, i.e.,  <br>\n",
    "*instances -> QAP -> example.txt*"
   ]
  },
  {
   "cell_type": "code",
   "execution_count": 38,
   "metadata": {},
   "outputs": [],
   "source": [
    "NAME='Cornell_example.txt'\n",
    "if 'dre' in NAME:\n",
    "    skip = 1\n",
    "else: \n",
    "    skip = 2\n",
    "# Path to file\n",
    "PATH = path_for_any_os('QAP', NAME)\n",
    "\n",
    "# Optimal Value\n",
    "first_line = pd.read_csv(PATH, delim_whitespace=True, nrows=1, header=None).iloc[0].to_list()\n",
    "if len(first_line)==2:\n",
    "    optimal = first_line[1]\n",
    "else:\n",
    "    optimal = 10e6\n",
    "# Problem size\n",
    "S = int(first_line[0])\n",
    "\n",
    "# Flow Matrix\n",
    "F = pd.read_csv(PATH, skiprows=skip, delim_whitespace=True, nrows=S, header=None).to_numpy()\n",
    "\n",
    "# Distance Matrix\n",
    "D = pd.read_csv(PATH, skiprows=S+skip+1, delim_whitespace=True, nrows=S, header=None).to_numpy()\n",
    "\n",
    "# TIMEOUT: Total time of annealing execution\n",
    "ONE_MIN = 60000\n",
    "TIMEOUT = ONE_MIN + (S//10)*ONE_MIN # Add an extra minute of execution time every 10 more variables"
   ]
  },
  {
   "cell_type": "code",
   "execution_count": 39,
   "metadata": {},
   "outputs": [],
   "source": [
    "# Convert to matrix\n",
    "D = np.asmatrix(D)\n",
    "F = np.asmatrix(F)"
   ]
  },
  {
   "attachments": {},
   "cell_type": "markdown",
   "metadata": {},
   "source": [
    "The objective function is given by\n",
    "\\begin{equation}\n",
    "\\min_{\\textbf{x}}\\sum_{i=1}^{N}\\sum_{j=1}^{N}\\sum_{p=1}^{N}\\sum_{q=1}^{N} f_{ij}d_{pq}x_{ip}x_{jq}\n",
    "\\end{equation}\n",
    "subject to,\n",
    "\\begin{align}\n",
    "\\sum_{i=1}^{N}x_{ij} = 1, \\quad \\forall j = 0,..., 1 \\\\\n",
    "\\sum_{j=1}^{N}x_{ij} = 1, \\quad \\forall i = 0,..., 1\n",
    "\\end{align}\n",
    "The meaning of the last two constraints is,\n",
    "- A given location $i$ can only have one facility $j$.<br>\n",
    "- A facility cannot be in multiple locations. <br>\n",
    "To get insight of the problem formulation, one can either formulate a small instance or do some research. At **[4]** I found a compact formulation of the problem that allows me to use numpy speed-up.\n",
    "\\begin{equation}\n",
    "\\tag{Koopmans-Beckmann}\n",
    "\\boxed{\\langle  \\; F, XDX^{T} \\; \\rangle = \\sum_{i=1}^{N}\\sum_{j=1}^{N}\\sum_{p=1}^{N}\\sum_{q=1}^{N} f_{ij}d_{pq}x_{ip}x_{jq}} \n",
    "\\end{equation}"
   ]
  },
  {
   "attachments": {},
   "cell_type": "markdown",
   "metadata": {},
   "source": [
    "##### <font color='red'>Warning: </font>For large instances formulate BQM and go to SimulatedAnnealingSampler"
   ]
  },
  {
   "attachments": {},
   "cell_type": "markdown",
   "metadata": {},
   "source": [
    "## Build the CQM"
   ]
  },
  {
   "cell_type": "code",
   "execution_count": 40,
   "metadata": {},
   "outputs": [],
   "source": [
    "# Matrix X of binary variables\n",
    "X = np.empty([S,S],dtype=object)\n",
    "for i in range(S):\n",
    "    for j in range(S):\n",
    "        X[i,j] = Binary('x_{}_{}'.format(i+1,j+1))\n",
    "X = np.asmatrix(X)"
   ]
  },
  {
   "cell_type": "code",
   "execution_count": 41,
   "metadata": {},
   "outputs": [],
   "source": [
    "# Build the CQM\n",
    "cqm = ConstrainedQuadraticModel()"
   ]
  },
  {
   "cell_type": "code",
   "execution_count": 42,
   "metadata": {},
   "outputs": [],
   "source": [
    "#B = F.T@X@(D@X.T) # Can we improve it?\n",
    "B = X@(D@X.T)"
   ]
  },
  {
   "cell_type": "code",
   "execution_count": 43,
   "metadata": {},
   "outputs": [],
   "source": [
    "# Too slow\n",
    "#B = np.empty([S,S], dtype=object)\n",
    "#for row in range(S):\n",
    "#    for column in range(S):\n",
    "#        B[row, column] = quicksum(X[row,i]*D[i,j]*X.T[j,column] for i in range(S) for j in range(S))"
   ]
  },
  {
   "cell_type": "code",
   "execution_count": 44,
   "metadata": {},
   "outputs": [],
   "source": [
    "F_T = F.T\n",
    "objective = quicksum(F_T[diag,j]*B[j,diag] for diag in range(S) for j in range(S))"
   ]
  },
  {
   "cell_type": "code",
   "execution_count": 45,
   "metadata": {},
   "outputs": [],
   "source": [
    "# Too slow because we are adding BinaryQuadraticModels objects\n",
    "#objective = np.trace(F.T@B)\n",
    "#objective"
   ]
  },
  {
   "cell_type": "code",
   "execution_count": 46,
   "metadata": {},
   "outputs": [],
   "source": [
    "# Add the objective to the CQM\n",
    "cqm.set_objective(objective)"
   ]
  },
  {
   "cell_type": "code",
   "execution_count": 47,
   "metadata": {},
   "outputs": [],
   "source": [
    "# Set the constraints.\n",
    "for i in range(S):\n",
    "    cqm.add_constraint(quicksum(X[i,j] for j in range(S)) == 1)\n",
    "for j in range(S):\n",
    "    cqm.add_constraint(quicksum(X[i,j] for i in range(S)) == 1)"
   ]
  },
  {
   "cell_type": "code",
   "execution_count": 48,
   "metadata": {},
   "outputs": [],
   "source": [
    "bqm, invert = dimod.cqm_to_bqm(cqm)"
   ]
  },
  {
   "attachments": {},
   "cell_type": "markdown",
   "metadata": {},
   "source": [
    "## Build the BQM"
   ]
  },
  {
   "cell_type": "code",
   "execution_count": 13,
   "metadata": {},
   "outputs": [],
   "source": [
    "bqm = BinaryQuadraticModel('BINARY') # Initialize the BQM"
   ]
  },
  {
   "cell_type": "code",
   "execution_count": 14,
   "metadata": {},
   "outputs": [],
   "source": [
    "# For loops are not fast but they are faster than numpy matrix multiplication with dtype=objects\n",
    "for i in range(S):\n",
    "    for j in range(S):\n",
    "        for p in range(S):\n",
    "            for q in range(S):\n",
    "                # Cannot have diagonal terms\n",
    "                if (i==j) and (p==q):\n",
    "                    continue\n",
    "                    #bqm.add_linear('x_{}_{}'.format(i+1,p+1), F[i,i]*D[p,p]) # Zero term in diagonals\n",
    "                else:\n",
    "                    bqm.add_quadratic('x_{}_{}'.format(i+1,p+1),'x_{}_{}'.format(j+1,q+1), F[i,j]*D[p,q])"
   ]
  },
  {
   "cell_type": "code",
   "execution_count": 15,
   "metadata": {},
   "outputs": [],
   "source": [
    "# First Constraints\n",
    "for row in range(S):\n",
    "    constraint = [('x_{}_{}'.format(row+1,j+1), 1) for j in range(S)]\n",
    "    bqm.add_linear_equality_constraint(\n",
    "        constraint,\n",
    "        constant = -1,\n",
    "        lagrange_multiplier = 4*optimal)\n",
    "    \n",
    "# Second Constraints\n",
    "for column in range(S):\n",
    "    constraint = [('x_{}_{}'.format(i+1,column+1), 1) for i in range(S)]\n",
    "    bqm.add_linear_equality_constraint(\n",
    "        constraint,\n",
    "        constant = -1,\n",
    "        lagrange_multiplier = 4*optimal)"
   ]
  },
  {
   "attachments": {},
   "cell_type": "markdown",
   "metadata": {},
   "source": [
    "According to D-Wave[5] https://support.dwavesys.com/hc/en-us/community/posts/4403954039831-How-can-we-get-execution-time-of-each-annealing-while-using-Neal-Simulated-Annealing-Sampler-:\n",
    "> The goal is to find the optimal number of sweeps for which the estimated TTS is minimal: the latter can be estimated knowing the time for one read and the probability of reaching the ground state. In other words, in a plot with num_sweeps on the x-axis and TTS on the y-axis, you would expect a convex function (as shown in the research paper linked below).\n",
    "\n",
    "Maybe this part is out of the scope of the current project for this reason I will propose a number of sweeps acording to the size of the problem. Notice that the bigger the problem the more number of sweeps but that implies longer times of computation."
   ]
  },
  {
   "attachments": {},
   "cell_type": "markdown",
   "metadata": {},
   "source": [
    "#### Neal solver"
   ]
  },
  {
   "cell_type": "code",
   "execution_count": 49,
   "metadata": {},
   "outputs": [],
   "source": [
    "# We could add a custom beta_schedule for high performance applications\n",
    "results = neal.sampler.SimulatedAnnealingSampler().sample(bqm, num_reads=1000*S, num_sweeps=2*S*S, num_sweeps_per_beta=S)\n",
    "#exactsolver = dimod.ExactSolver()\n",
    "#results = exactsolver.sample(bqm)"
   ]
  },
  {
   "attachments": {},
   "cell_type": "markdown",
   "metadata": {},
   "source": [
    "#### Tabu solver (If need a timeout function)"
   ]
  },
  {
   "cell_type": "code",
   "execution_count": 17,
   "metadata": {},
   "outputs": [],
   "source": [
    "# Timing with tabu\n",
    "# Tiempo en llegar a la mejor solucion (en que momento la alcanzas)\n",
    "sampler = tabu.TabuSampler()\n",
    "results = sampler.sample(bqm, timeout=TIMEOUT) # Output the best solution found in the given time"
   ]
  },
  {
   "cell_type": "code",
   "execution_count": 50,
   "metadata": {},
   "outputs": [],
   "source": [
    "results_table = results.to_pandas_dataframe()\n",
    "index_columns = ['energy', 'num_occurrences']\n",
    "for i in range(S):\n",
    "    for j in range(S):\n",
    "        index_columns.append('x_{}_{}'.format(i+1,j+1))\n",
    "results_table = results_table[index_columns]\n",
    "results_table = results_table.sort_values(by=['energy'])\n",
    "pd.set_option('display.max_rows', 7)\n",
    "pd.set_option('display.max_columns', 500)"
   ]
  },
  {
   "cell_type": "code",
   "execution_count": 51,
   "metadata": {},
   "outputs": [
    {
     "data": {
      "text/html": [
       "<div>\n",
       "<style scoped>\n",
       "    .dataframe tbody tr th:only-of-type {\n",
       "        vertical-align: middle;\n",
       "    }\n",
       "\n",
       "    .dataframe tbody tr th {\n",
       "        vertical-align: top;\n",
       "    }\n",
       "\n",
       "    .dataframe thead th {\n",
       "        text-align: right;\n",
       "    }\n",
       "</style>\n",
       "<table border=\"1\" class=\"dataframe\">\n",
       "  <thead>\n",
       "    <tr style=\"text-align: right;\">\n",
       "      <th></th>\n",
       "      <th>energy</th>\n",
       "      <th>num_occurrences</th>\n",
       "      <th>x_1_1</th>\n",
       "      <th>x_1_2</th>\n",
       "      <th>x_1_3</th>\n",
       "      <th>x_2_1</th>\n",
       "      <th>x_2_2</th>\n",
       "      <th>x_2_3</th>\n",
       "      <th>x_3_1</th>\n",
       "      <th>x_3_2</th>\n",
       "      <th>x_3_3</th>\n",
       "    </tr>\n",
       "  </thead>\n",
       "  <tbody>\n",
       "    <tr>\n",
       "      <th>0</th>\n",
       "      <td>173.0</td>\n",
       "      <td>1</td>\n",
       "      <td>0</td>\n",
       "      <td>0</td>\n",
       "      <td>1</td>\n",
       "      <td>0</td>\n",
       "      <td>1</td>\n",
       "      <td>0</td>\n",
       "      <td>1</td>\n",
       "      <td>0</td>\n",
       "      <td>0</td>\n",
       "    </tr>\n",
       "    <tr>\n",
       "      <th>1209</th>\n",
       "      <td>173.0</td>\n",
       "      <td>1</td>\n",
       "      <td>0</td>\n",
       "      <td>0</td>\n",
       "      <td>1</td>\n",
       "      <td>0</td>\n",
       "      <td>1</td>\n",
       "      <td>0</td>\n",
       "      <td>1</td>\n",
       "      <td>0</td>\n",
       "      <td>0</td>\n",
       "    </tr>\n",
       "    <tr>\n",
       "      <th>1213</th>\n",
       "      <td>173.0</td>\n",
       "      <td>1</td>\n",
       "      <td>0</td>\n",
       "      <td>0</td>\n",
       "      <td>1</td>\n",
       "      <td>0</td>\n",
       "      <td>1</td>\n",
       "      <td>0</td>\n",
       "      <td>1</td>\n",
       "      <td>0</td>\n",
       "      <td>0</td>\n",
       "    </tr>\n",
       "    <tr>\n",
       "      <th>1214</th>\n",
       "      <td>173.0</td>\n",
       "      <td>1</td>\n",
       "      <td>0</td>\n",
       "      <td>0</td>\n",
       "      <td>1</td>\n",
       "      <td>0</td>\n",
       "      <td>1</td>\n",
       "      <td>0</td>\n",
       "      <td>1</td>\n",
       "      <td>0</td>\n",
       "      <td>0</td>\n",
       "    </tr>\n",
       "    <tr>\n",
       "      <th>1217</th>\n",
       "      <td>173.0</td>\n",
       "      <td>1</td>\n",
       "      <td>0</td>\n",
       "      <td>0</td>\n",
       "      <td>1</td>\n",
       "      <td>0</td>\n",
       "      <td>1</td>\n",
       "      <td>0</td>\n",
       "      <td>1</td>\n",
       "      <td>0</td>\n",
       "      <td>0</td>\n",
       "    </tr>\n",
       "  </tbody>\n",
       "</table>\n",
       "</div>"
      ],
      "text/plain": [
       "      energy  num_occurrences  x_1_1  x_1_2  x_1_3  x_2_1  x_2_2  x_2_3   \n",
       "0      173.0                1      0      0      1      0      1      0  \\\n",
       "1209   173.0                1      0      0      1      0      1      0   \n",
       "1213   173.0                1      0      0      1      0      1      0   \n",
       "1214   173.0                1      0      0      1      0      1      0   \n",
       "1217   173.0                1      0      0      1      0      1      0   \n",
       "\n",
       "      x_3_1  x_3_2  x_3_3  \n",
       "0         1      0      0  \n",
       "1209      1      0      0  \n",
       "1213      1      0      0  \n",
       "1214      1      0      0  \n",
       "1217      1      0      0  "
      ]
     },
     "execution_count": 51,
     "metadata": {},
     "output_type": "execute_result"
    }
   ],
   "source": [
    "results_table.head(5)"
   ]
  },
  {
   "attachments": {},
   "cell_type": "markdown",
   "metadata": {},
   "source": [
    "## Last Comments\n",
    "There is a trick to reduce the number of variables and computational resources, the upper triangular trick. This trick take advantage of the symmetry of a given problem (when $x_{ij} = x_{ji}$) to add the lower diagonal elements of a matrix to the upper diagonal elements so that we do only have to consider the upper triangular elements."
   ]
  },
  {
   "attachments": {},
   "cell_type": "markdown",
   "metadata": {},
   "source": [
    "## Bibliography"
   ]
  },
  {
   "attachments": {},
   "cell_type": "markdown",
   "metadata": {},
   "source": [
    "**[1]** *dimod Documentation*: https://readthedocs.org/projects/test-projecttemplate-dimod/downloads/pdf/latest/ <br>\n",
    "**[2]** *Harris, C.R., Millman, K.J., van der Walt, S.J. et al. Array programming with NumPy. Nature 585, 357–362 (2020). DOI: 10.1038/s41586-020-2649-2.* <br>\n",
    "**[3]** *McKinney, W. (2010). Data Structures for Statistical Computing in Python. In Proceedings of the Python in Science Conferences. https://doi.org/10.25080/majora-92bf1922-00a* <br>\n",
    "**[4]** QAP Theory: https://optimization.cbe.cornell.edu/index.php?title=Quadratic_assignment_problem <br>"
   ]
  }
 ],
 "metadata": {
  "kernelspec": {
   "display_name": "Fujitsu_env",
   "language": "python",
   "name": "python3"
  },
  "language_info": {
   "codemirror_mode": {
    "name": "ipython",
    "version": 3
   },
   "file_extension": ".py",
   "mimetype": "text/x-python",
   "name": "python",
   "nbconvert_exporter": "python",
   "pygments_lexer": "ipython3",
   "version": "3.11.3"
  },
  "orig_nbformat": 4
 },
 "nbformat": 4,
 "nbformat_minor": 2
}
