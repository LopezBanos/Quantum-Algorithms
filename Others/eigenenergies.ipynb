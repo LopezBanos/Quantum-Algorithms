{
 "cells": [
  {
   "cell_type": "code",
   "execution_count": 1,
   "metadata": {},
   "outputs": [],
   "source": [
    "#=============================================================================#\n",
    "#                            Importing packages                               #\n",
    "#=============================================================================#\n",
    "import numpy as np\n",
    "import matplotlib.pyplot as plt\n",
    "from numpy import linalg as LA"
   ]
  },
  {
   "cell_type": "code",
   "execution_count": 2,
   "metadata": {},
   "outputs": [],
   "source": [
    "#=============================================================================#\n",
    "#                                Ising Matrix                                  #\n",
    "#=============================================================================#\n",
    "# Two-Heirs problem parameters\n",
    "v0=1 ; v1=3 ; v2=1\n",
    "# Pauli Matrix and Identity\n",
    "I = np.eye(2)\n",
    "X = np.matrix([[0,1],[1,0]])\n",
    "Z = np.matrix([[1,0],[0,-1]])\n",
    "\n",
    "# Mapping of our problem into Ising\n",
    "Ising = np.matrix([[0, 2*v0*v1, 2*v0*v2],[0, 0, 2*v1*v2],[0,0,0]])"
   ]
  },
  {
   "cell_type": "code",
   "execution_count": 3,
   "metadata": {},
   "outputs": [],
   "source": [
    "#=============================================================================#\n",
    "#                                OUTER PRODUCTS                               #\n",
    "#=============================================================================#\n",
    "# Z\n",
    "Z0Z1 = np.kron(Z, np.kron(Z, I))\n",
    "Z0Z2 = np.kron(Z, np.kron(I, Z))\n",
    "Z1Z2 = np.kron(I, np.kron(Z, Z))\n",
    "\n",
    "# X\n",
    "X0 = np.kron(X, np.kron(I, I))\n",
    "X1 = np.kron(I, np.kron(X, I))\n",
    "X2 = np.kron(I, np.kron(I, X))\n"
   ]
  },
  {
   "cell_type": "code",
   "execution_count": 4,
   "metadata": {},
   "outputs": [],
   "source": [
    "#=============================================================================#\n",
    "#                                 Hamiltonians                                #\n",
    "#=============================================================================#\n",
    "H_Ising = Ising[0,1]*Z0Z1 + Ising[0,2]*Z0Z2 + Ising[1,2]*Z1Z2\n",
    "H_ini = -X0 - X1 - X2"
   ]
  },
  {
   "attachments": {},
   "cell_type": "markdown",
   "metadata": {},
   "source": [
    "# Eigenvectors\n",
    "In a 3-qubit Hilbert spaces the eigenvectors are -- we ommit to traspose the vector to save space --,\n",
    "$$\n",
    "\\begin{align}\n",
    "\\ket{\\uparrow,\\uparrow,\\uparrow} = (1,0,0,0,0,0,0,0) \\\\\n",
    "\\ket{\\uparrow,\\uparrow,\\downarrow} = (0,1,0,0,0,0,0,0)\\\\\n",
    "\\ket{\\uparrow,\\downarrow,\\uparrow} = (0,0,1,0,0,0,0,0)\\\\\n",
    "\\ket{\\uparrow,\\downarrow,\\downarrow} = (0,0,0,1,0,0,0,0)\\\\\n",
    "\\ket{\\downarrow,\\uparrow,\\uparrow} = (0,0,0,0,1,0,0,0)\\\\\n",
    "\\ket{\\downarrow,\\uparrow,\\downarrow} = (0,0,0,0,0,1,0,0)\\\\\n",
    "\\ket{\\downarrow,\\downarrow,\\uparrow} = (0,0,0,0,0,0,1,0)\\\\\n",
    "\\ket{\\downarrow,\\downarrow,\\downarrow} = (0,0,0,0,0,0,0,1)\n",
    "\\end{align}\n",
    "$$"
   ]
  },
  {
   "cell_type": "code",
   "execution_count": 5,
   "metadata": {},
   "outputs": [
    {
     "name": "stdout",
     "output_type": "stream",
     "text": [
      "eigenvalues: [ 14.  -2. -10.  -2.  -2. -10.  -2.  14.]\n",
      "min_eigenvalues indices: 2\n",
      "The associated eigenvectors\n",
      "[[0. 0. 1. 0. 0. 0. 0. 0.]]\n",
      "[[0. 0. 0. 0. 0. 1. 0. 0.]]\n"
     ]
    }
   ],
   "source": [
    "# Check eigenvectors of Ising Hamiltonian\n",
    "w, v = LA.eig(H_Ising)\n",
    "print(\"eigenvalues:\", w)\n",
    "min_indices = np.where(w == w.min())[0] \n",
    "print(\"min_eigenvalues indices:\", min_indices[0])\n",
    "print(\"The associated eigenvectors\")\n",
    "for i in range(len(min_indices)):\n",
    "    print(v[min_indices[i]])"
   ]
  },
  {
   "attachments": {},
   "cell_type": "markdown",
   "metadata": {},
   "source": [
    "which corresponds to \n",
    "$$\n",
    "\\begin{align}\n",
    "\\ket{\\uparrow,\\downarrow,\\uparrow} = (0,0,1,0,0,0,0,0)\\\\\n",
    "\\ket{\\downarrow,\\uparrow,\\downarrow} = (0,0,0,0,0,1,0,0)\\\\\n",
    "\\end{align}\n",
    "$$"
   ]
  },
  {
   "cell_type": "code",
   "execution_count": 79,
   "metadata": {},
   "outputs": [],
   "source": [
    "T = 1\n",
    "time = np.linspace(0, T, 100)\n",
    "#H = (1-t/T)*H_ini + (t/T)*H_Ising\n",
    "eigen_H = []\n",
    "eigen_H_Ising = []\n",
    "eigen_H_ini = []\n",
    "for t in time:\n",
    "    # Compute the Hamiltonian at that snapshot\n",
    "    H = (1-t/T)*H_ini + (t/T)*H_Ising\n",
    "\n",
    "    # Compute the ground eigenstate\n",
    "    # Total Hamiltonian\n",
    "    w, v = LA.eig(H)\n",
    "    min_index = np.argmin(w)\n",
    "    eigen_H.append(w[min_index])\n",
    "    # Ising Hamiltonian\n",
    "    w, v = LA.eig((t/T)*H_Ising)\n",
    "    min_index = np.argmin(w)\n",
    "    eigen_H_Ising.append(w[min_index])\n",
    "    # Initial Hamiltonian\n",
    "    w, v = LA.eig((1-t/T)*H_ini)\n",
    "    min_index = np.argmin(w)\n",
    "    eigen_H_ini.append(w[min_index])\n"
   ]
  },
  {
   "cell_type": "code",
   "execution_count": 82,
   "metadata": {},
   "outputs": [
    {
     "name": "stderr",
     "output_type": "stream",
     "text": [
      "/opt/homebrew/Caskroom/miniforge/base/envs/qc-hackathon/lib/python3.9/site-packages/matplotlib/cbook/__init__.py:1335: ComplexWarning: Casting complex values to real discards the imaginary part\n",
      "  return np.asarray(x, float)\n"
     ]
    },
    {
     "data": {
      "image/png": "[encoded data removed]",
      "text/plain": [
       "<Figure size 640x480 with 1 Axes>"
      ]
     },
     "metadata": {},
     "output_type": "display_data"
    }
   ],
   "source": [
    "#=============================================================================#\n",
    "#                                  Plotting                                   #\n",
    "#=============================================================================#\n",
    "def set_size(width,fraction=1, subplots=(1, 1), ratio=0):\n",
    "    \"\"\"\n",
    "    Source: https://jwalton.info/Embed-Publication-Matplotlib-Latex/\n",
    "    \n",
    "    Set figure dimensions to avoid scaling in LaTeX.\n",
    "    param width: float or string\n",
    "            Document width in points, or string of predined document type\n",
    "    param fraction: float, optional\n",
    "            Fraction of the width which you wish the figure to occupy\n",
    "    param subplots: array-like, optional\n",
    "            The number of rows and columns of subplots.\n",
    "    returns:\n",
    "    fig_dim: tuple\n",
    "            Dimensions of figure in inches\n",
    "    \"\"\"\n",
    "    if width == 'thesis':\n",
    "        width_pt = 426.79135\n",
    "    elif width == 'beamer':\n",
    "        width_pt = 307.28987\n",
    "    else:\n",
    "        width_pt = width\n",
    "\n",
    "    # Width of figure (in pts)\n",
    "    fig_width_pt = width_pt * fraction\n",
    "    # Convert from pt to inches\n",
    "    inches_per_pt = 1 / 72.27\n",
    "\n",
    "    # Golden ratio to set aesthetic figure height\n",
    "    # https://disq.us/p/2940ij3\n",
    "    if ratio == 0:\n",
    "        golden_ratio = (5**.5 - 1) / 2\n",
    "    else:\n",
    "        golden_ratio = ratio  \n",
    "\n",
    "    # Figure width in inches\n",
    "    fig_width_in = fig_width_pt * inches_per_pt\n",
    "    # Figure height in inches\n",
    "    fig_height_in = fig_width_in * golden_ratio * (subplots[0] / subplots[1])\n",
    "\n",
    "    return (fig_width_in, fig_height_in)\n",
    "\n",
    "# Latex Font See Ref. https://matplotlib.org/stable/tutorials/text/usetex.html\n",
    "tex_fonts = {\n",
    "    # Use LaTeX to write all text\n",
    "    \"text.usetex\": True,\n",
    "    \"font.family\": \"serif\",\n",
    "    \"font.sans-serif\": \"Palantino\",\n",
    "    # Use 10pt font in plots, to match 10pt font in document\n",
    "    \"axes.labelsize\": 10,\n",
    "    \"font.size\": 10,\n",
    "    # Make the legend/label fonts a little smaller\n",
    "    \"legend.fontsize\": 12,\n",
    "    \"xtick.labelsize\": 8,\n",
    "    \"ytick.labelsize\": 8\n",
    "}\n",
    "\n",
    "plt.style.use('default')\n",
    "plt.rcParams.update(tex_fonts)\n",
    "\n",
    "width = 'thesis'\n",
    "fig, ax = plt.subplots(ncols=1)\n",
    "fig.tight_layout(pad=1.5)\n",
    "\n",
    "\n",
    "# Set names and Labels\n",
    "ax.set_xlabel('Dimensionless time')\n",
    "ax.set_ylabel('Energy [a.u.]')\n",
    "\n",
    "\n",
    "\n",
    "ax.plot(time,eigen_H_Ising, 'b', linestyle = 'dashed', label=r'$\\mathcal{H}_{f}$')\n",
    "ax.plot(time,eigen_H_ini, 'r', linestyle = 'dashed', label=r'$\\mathcal{H}_{i}$')\n",
    "ax.plot(time,eigen_H, 'green', linestyle = 'dashed', label=r'$\\mathcal{H}$')\n",
    "ax.legend()\n",
    "\n",
    "plt.savefig('Two-Heirs.pdf',  bbox_inches='tight')  \n",
    "plt.show()\n"
   ]
  },
  {
   "cell_type": "code",
   "execution_count": null,
   "metadata": {},
   "outputs": [],
   "source": []
  }
 ],
 "metadata": {
  "kernelspec": {
   "display_name": "qc-hackathon",
   "language": "python",
   "name": "python3"
  },
  "language_info": {
   "codemirror_mode": {
    "name": "ipython",
    "version": 3
   },
   "file_extension": ".py",
   "mimetype": "text/x-python",
   "name": "python",
   "nbconvert_exporter": "python",
   "pygments_lexer": "ipython3",
   "version": "3.9.13"
  },
  "orig_nbformat": 4
 },
 "nbformat": 4,
 "nbformat_minor": 2
}
